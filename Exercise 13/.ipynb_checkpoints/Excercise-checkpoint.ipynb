{
 "cells": [
  {
   "cell_type": "markdown",
   "id": "40d558d3",
   "metadata": {},
   "source": [
    "# --- Excercise 13: Roman to Integer ---"
   ]
  },
  {
   "cell_type": "code",
   "execution_count": 1,
   "id": "bc4bd7ff",
   "metadata": {},
   "outputs": [],
   "source": [
    "from Excercise import *"
   ]
  },
  {
   "cell_type": "markdown",
   "id": "dd34a40d",
   "metadata": {},
   "source": [
    "### Description"
   ]
  },
  {
   "cell_type": "markdown",
   "id": "13bcb5c6",
   "metadata": {},
   "source": [
    "Roman numerals are represented by seven different symbols: **I**, **V**, **X**, **L**, **C**, **D** and **M**.\n",
    "\n",
    "*Symbol       Value*\n",
    "\n",
    "**I       =      1**\n",
    "\n",
    "**V       =      5**\n",
    "\n",
    "**X       =      10**\n",
    "\n",
    "**L       =      50**\n",
    "\n",
    "**C       =      100**\n",
    "\n",
    "**D       =      500**\n",
    "\n",
    "**M       =      1000**\n",
    "\n",
    "For example, *2* is written as **II** in Roman numeral, just two ones added together. *12* is written as **XII**, which is simply *X + II*. The number *27* is written as **XXVII**, which is *XX + V + II*.\n",
    "\n",
    "Roman numerals are usually written largest to smallest from left to right. However, the numeral for *four* is not **IIII**. Instead, the number *four* is written as **IV**. Because the one is before the five we subtract it making four. The same principle applies to the number *nine*, which is written as **IX**. There are six instances where subtraction is used:\n",
    "\n",
    "**I** can be placed before **V** (*5*) and **X** (*10*) to make *4* and *9*. \n",
    "\n",
    "**X** can be placed before **L** (*50*) and **C** (*100*) to make *40* and *90*. \n",
    "\n",
    "**C** can be placed before **D** (*500*) and **M** (*1000*) to make *400* and *900*.\n",
    "\n",
    "\n",
    "Given a roman numeral, convert it to an integer."
   ]
  },
  {
   "cell_type": "markdown",
   "id": "4a3ba4a1",
   "metadata": {},
   "source": [
    "### Constraints"
   ]
  },
  {
   "cell_type": "markdown",
   "id": "ccf02357",
   "metadata": {},
   "source": [
    "- 1 <= s.length <= 15\n",
    "- s contains only the characters ('I', 'V', 'X', 'L', 'C', 'D', 'M')\n",
    "- It is guaranteed that s is a valid roman numeral in the range [1, 3999]"
   ]
  },
  {
   "cell_type": "markdown",
   "id": "6393513c",
   "metadata": {},
   "source": [
    "### Examples"
   ]
  },
  {
   "cell_type": "markdown",
   "id": "acdb8496",
   "metadata": {},
   "source": [
    "Input: *s = \"III\"*\n",
    "\n",
    "Output: *3*\n",
    "\n",
    "Explanation: *III = 3*.\n",
    "\n",
    "---\n",
    "\n",
    "Input: *s = \"LVIII\"*\n",
    "\n",
    "Output: *58*\n",
    "\n",
    "Explanation: *L = 50, V= 5, III = 3*.\n",
    "\n",
    "---\n",
    "\n",
    "Input: *s = \"MCMXCIV\"*\n",
    "\n",
    "Output: *1994*\n",
    "\n",
    "Explanation: *M = 1000, CM = 900, XC = 90 and IV = 4*."
   ]
  },
  {
   "cell_type": "markdown",
   "id": "efe7db7a",
   "metadata": {},
   "source": [
    "### Code"
   ]
  },
  {
   "cell_type": "code",
   "execution_count": 3,
   "id": "f2162983",
   "metadata": {},
   "outputs": [],
   "source": [
    "def romanToInt(s):\n",
    "\n",
    "    if ((len(s) < 1) or (len(s) > 15)):\n",
    "        \n",
    "        raise Excepton(\"1 <= s.length <= 15\")\n",
    "        \n",
    "    result = 0\n",
    "    i = 0\n",
    "        \n",
    "    while i < len(s):\n",
    "            \n",
    "        if (s[i] not in conversion.keys()):\n",
    "                \n",
    "            raise Excepton(\"s contains only the characters ('I', 'V', 'X', 'L', 'C', 'D', 'M')\")\n",
    "            \n",
    "        if ((s[i] == 'I') and (i + 1 != len(s))):\n",
    "            \n",
    "            if (s[i + 1] == 'V' or s[i + 1] == 'X'):\n",
    "                \n",
    "                result = result + (conversion.get(s[i + 1]) - conversion.get(s[i]))\n",
    "                i = i + 2\n",
    "                continue\n",
    "        \n",
    "        if ((s[i] == 'X') and (i + 1 != len(s))):\n",
    "            \n",
    "            if (s[i + 1] == 'L' or s[i + 1] == 'C'):\n",
    "                \n",
    "                result = result + (conversion.get(s[i + 1]) - conversion.get(s[i]))\n",
    "                i = i + 2\n",
    "                continue\n",
    "            \n",
    "        if ((s[i] == 'C') and (i + 1 != len(s))):\n",
    "            \n",
    "            if (s[i + 1] == 'D' or s[i + 1] == 'M'):\n",
    "                \n",
    "                result = result + (conversion.get(s[i + 1]) - conversion.get(s[i]))\n",
    "                i = i + 2\n",
    "                continue  \n",
    "        \n",
    "        result = result + conversion.get(s[i])\n",
    "        i = i + 1\n",
    "        \n",
    "    return result"
   ]
  },
  {
   "cell_type": "markdown",
   "id": "d7d9f247",
   "metadata": {},
   "source": [
    "### Tests"
   ]
  },
  {
   "cell_type": "code",
   "execution_count": 4,
   "id": "1c2f7c89",
   "metadata": {},
   "outputs": [
    {
     "name": "stdout",
     "output_type": "stream",
     "text": [
      "3\n"
     ]
    }
   ],
   "source": [
    "print(romanToInt(test_input_1))"
   ]
  },
  {
   "cell_type": "code",
   "execution_count": 5,
   "id": "8c452a76",
   "metadata": {},
   "outputs": [
    {
     "name": "stdout",
     "output_type": "stream",
     "text": [
      "58\n"
     ]
    }
   ],
   "source": [
    "print(romanToInt(test_input_2))"
   ]
  },
  {
   "cell_type": "code",
   "execution_count": 6,
   "id": "4c24c05b",
   "metadata": {},
   "outputs": [
    {
     "name": "stdout",
     "output_type": "stream",
     "text": [
      "1994\n"
     ]
    }
   ],
   "source": [
    "print(romanToInt(test_input_3))"
   ]
  }
 ],
 "metadata": {
  "kernelspec": {
   "display_name": "Python 3",
   "language": "python",
   "name": "python3"
  },
  "language_info": {
   "codemirror_mode": {
    "name": "ipython",
    "version": 3
   },
   "file_extension": ".py",
   "mimetype": "text/x-python",
   "name": "python",
   "nbconvert_exporter": "python",
   "pygments_lexer": "ipython3",
   "version": "3.8.8"
  }
 },
 "nbformat": 4,
 "nbformat_minor": 5
}
