{
 "cells": [
  {
   "cell_type": "markdown",
   "id": "40d558d3",
   "metadata": {},
   "source": [
    "# --- Excercise 13: Roman to Integer ---"
   ]
  },
  {
   "cell_type": "code",
   "execution_count": 1,
   "id": "bc4bd7ff",
   "metadata": {},
   "outputs": [],
   "source": [
    "from Excercise import *"
   ]
  },
  {
   "cell_type": "markdown",
   "id": "23a24488",
   "metadata": {},
   "source": [
    "### --- Part One ---"
   ]
  },
  {
   "cell_type": "markdown",
   "id": "63bacb20",
   "metadata": {},
   "source": []
  },
  {
   "cell_type": "markdown",
   "id": "d7d9f247",
   "metadata": {},
   "source": [
    "#### Test"
   ]
  },
  {
   "cell_type": "markdown",
   "id": "49d3e855",
   "metadata": {},
   "source": [
    "#### Answer"
   ]
  }
 ],
 "metadata": {
  "kernelspec": {
   "display_name": "Python 3",
   "language": "python",
   "name": "python3"
  },
  "language_info": {
   "codemirror_mode": {
    "name": "ipython",
    "version": 3
   },
   "file_extension": ".py",
   "mimetype": "text/x-python",
   "name": "python",
   "nbconvert_exporter": "python",
   "pygments_lexer": "ipython3",
   "version": "3.8.8"
  }
 },
 "nbformat": 4,
 "nbformat_minor": 5
}
